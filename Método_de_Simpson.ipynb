{
  "nbformat": 4,
  "nbformat_minor": 0,
  "metadata": {
    "colab": {
      "provenance": []
    },
    "kernelspec": {
      "name": "python3",
      "display_name": "Python 3"
    },
    "language_info": {
      "name": "python"
    }
  },
  "cells": [
    {
      "cell_type": "code",
      "execution_count": 11,
      "metadata": {
        "id": "LffspTUEIupB"
      },
      "outputs": [],
      "source": [
        "import numpy as np\n",
        "\n",
        "#Define la función a calcular\n",
        "def f1(x):\n",
        "  return (x**2)*(np.log(x))\n",
        "def f2(x):\n",
        "  return x**3 + 2*(x**2)\n",
        "def f3(x):\n",
        "  return (np.exp(x)-1)/(np.sin(x))\n",
        "def f4(x):\n",
        "  return x*(np.cos(x**2))\n"
      ]
    },
    {
      "cell_type": "code",
      "source": [
        "a = 1 #x_0\n",
        "b = 4 #x_n\n",
        "n = 4 # Número de particiones\n",
        "h = (b-a)/(n)\n",
        "x = np.zeros([n+1]) #Almacen de datos de x\n",
        "\n",
        "#Insertar valor real de la integral definida\n",
        "vr = 22.574279703891\n",
        "\n",
        "#Generador de puntos\n",
        "#print('Particiones de x')\n",
        "for i in range(0,n+1):\n",
        "    x[i] = a + i*(h)\n",
        "    print(f'x_{i} =', round(x[i],6))"
      ],
      "metadata": {
        "colab": {
          "base_uri": "https://localhost:8080/"
        },
        "id": "ubjz7aJ9N62r",
        "outputId": "ccacfff8-6bc2-4267-d8da-5dc655759cae"
      },
      "execution_count": 12,
      "outputs": [
        {
          "output_type": "stream",
          "name": "stdout",
          "text": [
            "x_0 = 1.0\n",
            "x_1 = 1.75\n",
            "x_2 = 2.5\n",
            "x_3 = 3.25\n",
            "x_4 = 4.0\n"
          ]
        }
      ]
    },
    {
      "cell_type": "markdown",
      "source": [
        "**Regla de Simpson**"
      ],
      "metadata": {
        "id": "K_zeHtr1i-f6"
      }
    },
    {
      "cell_type": "code",
      "source": [
        "def SimpsonT(a,b,f):\n",
        "  h = (b-a)/2\n",
        "  pm = a + h\n",
        "  I = (h/3)*(f(a)+4*f(pm)+f(b))\n",
        "  return I"
      ],
      "metadata": {
        "id": "x9XmEi5yhKuj"
      },
      "execution_count": 13,
      "outputs": []
    },
    {
      "cell_type": "markdown",
      "source": [
        "**Simpson Compuesto**"
      ],
      "metadata": {
        "id": "P4nnpE9hgejz"
      }
    },
    {
      "cell_type": "code",
      "source": [
        "def SimpsonC(a,b,n,f):\n",
        "  h = (b-a)/n\n",
        "  x = np.zeros([n+1])\n",
        "\n",
        "  for i in range(0,n+1):\n",
        "    x[i] = a + i*(h)\n",
        "\n",
        "  sum1 = 0\n",
        "  sum2 = 0\n",
        "\n",
        "  for i in range(1,n,2):\n",
        "    sum1 = sum1 + f(x[i])\n",
        "  for i in range(2,n,2):\n",
        "    sum2 = sum2 + f(x[i])\n",
        "  I = (h/3)*(f(a)+ 4*sum1 + 2*sum2 + f(b))\n",
        "  return I"
      ],
      "metadata": {
        "id": "aWyZWoKnPG6L"
      },
      "execution_count": 14,
      "outputs": []
    },
    {
      "cell_type": "markdown",
      "source": [
        "**Cálculo de Errores**"
      ],
      "metadata": {
        "id": "KRQhsrb9jtrO"
      }
    },
    {
      "cell_type": "code",
      "source": [
        "def ErrorR(vr,va):\n",
        "  er = abs(vr-va)/abs(vr)\n",
        "  return er\n",
        "\n",
        "def ErrorA(vr,va):\n",
        "  ea = abs(vr-va)\n",
        "  return ea"
      ],
      "metadata": {
        "id": "HS104rFxjW-O"
      },
      "execution_count": 15,
      "outputs": []
    },
    {
      "cell_type": "code",
      "source": [
        "print('----------------------- Problema 1------------------------')\n",
        "print('La aproximación con Simpson 1/3 = ', round(SimpsonT(a,b,f1),6))\n",
        "print(f'Error relativo = {round(ErrorR(vr,SimpsonT(a,b,f1)),6)}')\n",
        "print(f'Error absoluto = {round(ErrorA(vr,SimpsonT(a,b,f1)),6)}')\n",
        "print('----------------------------------------------------------')\n",
        "print(f'La aproximación con Simpson compuesto {round(SimpsonC(a,b,4,f1),6)} con n = 4')\n",
        "print(f'Error relativo = {round(ErrorR(vr,SimpsonC(a,b,4,f1)),6)}')\n",
        "print(f'Error absoluto = {round(ErrorA(vr,SimpsonC(a,b,4,f1)),6)}')\n",
        "print('----------------------------------------------------------')\n",
        "print(f'La aproximación con Simpson compuesto {round(SimpsonC(a,b,5,f),6)} con n = 5')\n",
        "print(f'Error relativo = {round(ErrorR(vr,SimpsonC(a,b,5,f1)),6)}')\n",
        "print(f'Error absoluto = {round(ErrorA(vr,SimpsonC(a,b,5,f1)),6)}')\n",
        "print('----------------------- Problema 2------------------------')\n",
        "print('La aproximación con Simpson 1/3 = ', round(SimpsonT(-1,1,f2),6))\n",
        "print(f'Error relativo = {round(ErrorR(vr,SimpsonT(-1,1,f2)),6)}')\n",
        "print(f'Error absoluto = {round(ErrorA(vr,SimpsonT(-1,1,f2)),6)}')\n",
        "print('----------------------------------------------------------')\n",
        "print(f'La aproximación con Simpson compuesto {round(SimpsonC(-1,1,4,f2),6)} con n = 4')\n",
        "print(f'Error relativo = {round(ErrorR(vr,SimpsonC(-1,1,4,f2)),6)}')\n",
        "print(f'Error absoluto = {round(ErrorA(vr,SimpsonC(-1,1,4,f2)),6)}')\n",
        "print('----------------------------------------------------------')\n",
        "print(f'La aproximación con Simpson compuesto {round(SimpsonC(-1,1,5,f2),6)} con n = 5')\n",
        "print(f'Error relativo = {round(ErrorR(vr,SimpsonC(-1,1,5,f2)),6)}')\n",
        "print(f'Error absoluto = {round(ErrorA(vr,SimpsonC(-1,1,5,f2)),6)}')\n",
        "print('----------------------- Problema 3------------------------')\n",
        "print('La aproximación con Simpson 1/3 = ', round(SimpsonT(0.5,np.pi/2,f3),6))\n",
        "print(f'Error relativo = {round(ErrorR(vr,SimpsonT(0.5,np.pi/2,f3)),6)}')\n",
        "print(f'Error absoluto = {round(ErrorA(vr,SimpsonT(0.5,np.pi/2,f3)),6)}')\n",
        "print('----------------------------------------------------------')\n",
        "print(f'La aproximación con Simpson compuesto {round(SimpsonC(0.5,np.pi/2,4,f3),6)} con n = 4')\n",
        "print(f'Error relativo = {round(ErrorR(vr,SimpsonC(0.5,np.pi/2,4,f3)),6)}')\n",
        "print(f'Error absoluto = {round(ErrorA(vr,SimpsonC(0.5,np.pi/2,4,f3)),6)}')\n",
        "print('----------------------------------------------------------')\n",
        "print(f'La aproximación con Simpson compuesto {round(SimpsonC(0.5,np.pi/2,5,f3),6)} con n = 5')\n",
        "print(f'Error relativo = {round(ErrorR(vr,SimpsonC(0.5,np.pi/2,5,f3)),6)}')\n",
        "print(f'Error absoluto = {round(ErrorA(vr,SimpsonC(0.5,np.pi/2,5,f3)),6)}')\n",
        "print('----------------------- Problema 4------------------------')\n",
        "print('La aproximación con Simpson 1/3 = ', round(SimpsonT(0,np.pi,f4),6))\n",
        "print(f'Error relativo = {round(ErrorR(vr,SimpsonT(0,np.pi,f4)),6)}')\n",
        "print(f'Error absoluto = {round(ErrorA(vr,SimpsonT(0,np.pi,f4)),6)}')\n",
        "print('----------------------------------------------------------')\n",
        "print(f'La aproximación con Simpson compuesto {round(SimpsonC(0,np.pi,4,f4),6)} con n = 4')\n",
        "print(f'Error relativo = {round(ErrorR(vr,SimpsonC(0,np.pi,4,f4)),6)}')\n",
        "print(f'Error absoluto = {round(ErrorA(vr,SimpsonC(0,np.pi,4,f4)),6)}')\n",
        "print('----------------------------------------------------------')\n",
        "print(f'La aproximación con Simpson compuesto {round(SimpsonC(0,np.pi,5,f4),6)} con n = 5')\n",
        "print(f'Error relativo = {round(ErrorR(vr,SimpsonC(0,np.pi,5,f4)),6)}')\n",
        "print(f'Error absoluto = {round(ErrorA(vr,SimpsonC(0,np.pi,5,f4)),6)}')"
      ],
      "metadata": {
        "colab": {
          "base_uri": "https://localhost:8080/"
        },
        "id": "Zsp8HX7kcrhX",
        "outputId": "a417ba75-2b7d-4131-f04d-46ca4bd3c04d"
      },
      "execution_count": 24,
      "outputs": [
        {
          "output_type": "stream",
          "name": "stdout",
          "text": [
            "----------------------- Problema 1------------------------\n",
            "La aproximación con Simpson 1/3 =  22.543989\n",
            "Error relativo = 0.001342\n",
            "Error absoluto = 0.030291\n",
            "----------------------------------------------------------\n",
            "La aproximación con Simpson compuesto 22.571953 con n = 4\n",
            "Error relativo = 0.000103\n",
            "Error absoluto = 0.002327\n",
            "----------------------------------------------------------\n",
            "La aproximación con Simpson compuesto 19.041673 con n = 5\n",
            "Error relativo = 0.156488\n",
            "Error absoluto = 3.532606\n",
            "----------------------- Problema 2------------------------\n",
            "La aproximación con Simpson 1/3 =  1.333333\n",
            "Error relativo = 0.940936\n",
            "Error absoluto = 21.240946\n",
            "----------------------------------------------------------\n",
            "La aproximación con Simpson compuesto 1.333333 con n = 4\n",
            "Error relativo = 0.940936\n",
            "Error absoluto = 21.240946\n",
            "----------------------------------------------------------\n",
            "La aproximación con Simpson compuesto 1.117867 con n = 5\n",
            "Error relativo = 0.950481\n",
            "Error absoluto = 21.456413\n",
            "----------------------- Problema 3------------------------\n",
            "La aproximación con Simpson 1/3 =  2.429017\n",
            "Error relativo = 0.892399\n",
            "Error absoluto = 20.145263\n",
            "----------------------------------------------------------\n",
            "La aproximación con Simpson compuesto 2.423311 con n = 4\n",
            "Error relativo = 0.892652\n",
            "Error absoluto = 20.150968\n",
            "----------------------------------------------------------\n",
            "La aproximación con Simpson compuesto 2.187259 con n = 5\n",
            "Error relativo = 0.903108\n",
            "Error absoluto = 20.387021\n",
            "----------------------- Problema 4------------------------\n",
            "La aproximación con Simpson 1/3 =  -4.054942\n",
            "Error relativo = 1.179627\n",
            "Error absoluto = 26.629222\n",
            "----------------------------------------------------------\n",
            "La aproximación con Simpson compuesto 1.12206 con n = 4\n",
            "Error relativo = 0.950295\n",
            "Error absoluto = 21.45222\n",
            "----------------------------------------------------------\n",
            "La aproximación con Simpson compuesto -0.507607 con n = 5\n",
            "Error relativo = 1.022486\n",
            "Error absoluto = 23.081887\n"
          ]
        }
      ]
    }
  ]
}