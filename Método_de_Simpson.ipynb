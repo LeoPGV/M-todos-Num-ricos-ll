{
  "nbformat": 4,
  "nbformat_minor": 0,
  "metadata": {
    "colab": {
      "provenance": []
    },
    "kernelspec": {
      "name": "python3",
      "display_name": "Python 3"
    },
    "language_info": {
      "name": "python"
    }
  },
  "cells": [
    {
      "cell_type": "code",
      "execution_count": null,
      "metadata": {
        "id": "LffspTUEIupB"
      },
      "outputs": [],
      "source": [
        "import numpy as np\n",
        "\n",
        "#Define la función a calcular\n",
        "def f1(x):\n",
        "  return (x**2)*(np.log(x))\n",
        "def f2(x):\n",
        "  return x**3 + 2*(x**2)\n",
        "def f3(x):\n",
        "  return (np.exp(x)-1)/(np.sin(x))\n",
        "def f4(x):\n",
        "  return x*(np.cos(x**2))\n"
      ]
    },
    {
      "cell_type": "code",
      "source": [
        "a = 1 #x_0\n",
        "b = 4 #x_n\n",
        "n = 4 - 1 # Número de particiones n-1\n",
        "h = (b-a)/(n)\n",
        "x = np.zeros([n+1]) #Almacen de datos de x\n",
        "\n",
        "#Insertar valor real de la integral definida\n",
        "vr = 22.574279703891\n",
        "\n",
        "#Generador de puntos\n",
        "#print('Particiones de x')\n",
        "for i in range(0,n+1):\n",
        "    x[i] = a + i*(h)\n",
        "    print(f'x_{i} =', round(x[i],6))"
      ],
      "metadata": {
        "colab": {
          "base_uri": "https://localhost:8080/"
        },
        "id": "ubjz7aJ9N62r",
        "outputId": "915460c6-32f8-4b39-c7b1-390034082287"
      },
      "execution_count": null,
      "outputs": [
        {
          "output_type": "stream",
          "name": "stdout",
          "text": [
            "x_0 = 1.0\n",
            "x_1 = 2.0\n",
            "x_2 = 3.0\n",
            "x_3 = 4.0\n"
          ]
        }
      ]
    },
    {
      "cell_type": "markdown",
      "source": [
        "**Regla de Simpson**"
      ],
      "metadata": {
        "id": "K_zeHtr1i-f6"
      }
    },
    {
      "cell_type": "code",
      "source": [
        "def SimpsonT(a,b,f):\n",
        "  h = (b-a)/2\n",
        "  pm = a + h\n",
        "  I = (h/3)*(f(a)+4*f(pm)+f(b))\n",
        "  return I"
      ],
      "metadata": {
        "id": "x9XmEi5yhKuj"
      },
      "execution_count": null,
      "outputs": []
    },
    {
      "cell_type": "markdown",
      "source": [
        "**Simpson Compuesto**"
      ],
      "metadata": {
        "id": "P4nnpE9hgejz"
      }
    },
    {
      "cell_type": "code",
      "source": [
        "def SimpsonC(a,b,n,f):\n",
        "  h = (b-a)/n\n",
        "  x = np.zeros([n+1])\n",
        "\n",
        "  for i in range(0,n+1):\n",
        "    x[i] = a + i*(h)\n",
        "\n",
        "  sum1 = 0\n",
        "  sum2 = 0\n",
        "\n",
        "  for i in range(1,n,2):\n",
        "    sum1 = sum1 + f(x[i])\n",
        "  for i in range(2,n,2):\n",
        "    sum2 = sum2 + f(x[i])\n",
        "  I = (h/3)*(f(a)+ 4*sum1 + 2*sum2 + f(b))\n",
        "  return I"
      ],
      "metadata": {
        "id": "aWyZWoKnPG6L"
      },
      "execution_count": null,
      "outputs": []
    },
    {
      "cell_type": "markdown",
      "source": [
        "**Cálculo de Errores**"
      ],
      "metadata": {
        "id": "KRQhsrb9jtrO"
      }
    },
    {
      "cell_type": "code",
      "source": [
        "def ErrorR(vr,va):\n",
        "  er = abs(vr-va)/abs(vr)\n",
        "  return er\n",
        "\n",
        "def ErrorA(vr,va):\n",
        "  ea = abs(vr-va)\n",
        "  return ea"
      ],
      "metadata": {
        "id": "HS104rFxjW-O"
      },
      "execution_count": null,
      "outputs": []
    },
    {
      "cell_type": "code",
      "source": [
        "print('----------------------- Problema 1------------------------')\n",
        "print('La aproximación con Simpson 1/3 = ', round(SimpsonT(a,b,f1),6))\n",
        "print(f'Error relativo = {round(ErrorR(vr,SimpsonT(a,b,f1)),6)}')\n",
        "print(f'Error absoluto = {round(ErrorA(vr,SimpsonT(a,b,f1)),6)}')\n",
        "print('----------------------------------------------------------')\n",
        "print(f'La aproximación con Simpson compuesto {round(SimpsonC(a,b,3,f1),6)} con n = 4')\n",
        "print(f'Error relativo = {round(ErrorR(vr,SimpsonC(a,b,3,f1)),6)}')\n",
        "print(f'Error absoluto = {round(ErrorA(vr,SimpsonC(a,b,3,f1)),6)}')\n",
        "print('----------------------------------------------------------')\n",
        "print(f'La aproximación con Simpson compuesto {round(SimpsonC(a,b,4,f1),6)} con n = 5')\n",
        "print(f'Error relativo = {round(ErrorR(vr,SimpsonC(a,b,4,f1)),6)}')\n",
        "print(f'Error absoluto = {round(ErrorA(vr,SimpsonC(a,b,4,f1)),6)}')\n",
        "print('----------------------- Problema 2------------------------')\n",
        "print('La aproximación con Simpson 1/3 = ', round(SimpsonT(-1,1,f2),6))\n",
        "print(f'Error relativo = {round(ErrorR(1.333333,SimpsonT(-1,1,f2)),6)}')\n",
        "print(f'Error absoluto = {round(ErrorA(1.333333,SimpsonT(-1,1,f2)),6)}')\n",
        "print('----------------------------------------------------------')\n",
        "print(f'La aproximación con Simpson compuesto {round(SimpsonC(-1,1,3,f2),6)} con n = 4')\n",
        "print(f'Error relativo = {round(ErrorR(1.333333,SimpsonC(-1,1,3,f2)),6)}')\n",
        "print(f'Error absoluto = {round(ErrorA(1.333333,SimpsonC(-1,1,3,f2)),6)}')\n",
        "print('----------------------------------------------------------')\n",
        "print(f'La aproximación con Simpson compuesto {round(SimpsonC(-1,1,4,f2),6)} con n = 5')\n",
        "print(f'Error relativo = {round(ErrorR(1.333333,SimpsonC(-1,1,4,f2)),6)}')\n",
        "print(f'Error absoluto = {round(ErrorA(1.333333,SimpsonC(-1,1,4,f2)),6)}')\n",
        "print('----------------------- Problema 3------------------------')\n",
        "print('La aproximación con Simpson 1/3 = ', round(SimpsonT(0.5,np.pi/2,f3),6))\n",
        "print(f'Error relativo = {round(ErrorR(2.422850,SimpsonT(0.5,np.pi/2,f3)),6)}')\n",
        "print(f'Error absoluto = {round(ErrorA(2.422850,SimpsonT(0.5,np.pi/2,f3)),6)}')\n",
        "print('----------------------------------------------------------')\n",
        "print(f'La aproximación con Simpson compuesto {round(SimpsonC(0.5,np.pi/2,3,f3),6)} con n = 4')\n",
        "print(f'Error relativo = {round(ErrorR(2.422850,SimpsonC(0.5,np.pi/2,3,f3)),6)}')\n",
        "print(f'Error absoluto = {round(ErrorA(2.422850,SimpsonC(0.5,np.pi/2,3,f3)),6)}')\n",
        "print('----------------------------------------------------------')\n",
        "print(f'La aproximación con Simpson compuesto {round(SimpsonC(0.5,np.pi/2,4,f3),6)} con n = 5')\n",
        "print(f'Error relativo = {round(ErrorR(2.422850,SimpsonC(0.5,np.pi/2,4,f3)),6)}')\n",
        "print(f'Error absoluto = {round(ErrorA(2.422850,SimpsonC(0.5,np.pi/2,4,f3)),6)}')\n",
        "print('----------------------- Problema 4------------------------')\n",
        "print('La aproximación con Simpson 1/3 = ', round(SimpsonT(0,np.pi,f4),6))\n",
        "print(f'Error relativo = {round(ErrorR(-0.215151,SimpsonT(0,np.pi,f4)),6)}')\n",
        "print(f'Error absoluto = {round(ErrorA(-0.215151,SimpsonT(0,np.pi,f4)),6)}')\n",
        "print('----------------------------------------------------------')\n",
        "print(f'La aproximación con Simpson compuesto {round(SimpsonC(0,np.pi,3,f4),6)} con n = 4')\n",
        "print(f'Error relativo = {round(ErrorR(-0.215151,SimpsonC(0,np.pi,3,f4)),6)}')\n",
        "print(f'Error absoluto = {round(ErrorA(-0.215151,SimpsonC(0,np.pi,3,f4)),6)}')\n",
        "print('----------------------------------------------------------')\n",
        "print(f'La aproximación con Simpson compuesto {round(SimpsonC(0,np.pi,4,f4),6)} con n = 5')\n",
        "print(f'Error relativo = {round(ErrorR(-0.215151,SimpsonC(0,np.pi,4,f4)),6)}')\n",
        "print(f'Error absoluto = {round(ErrorA(-0.215151,SimpsonC(0,np.pi,4,f4)),6)}')"
      ],
      "metadata": {
        "colab": {
          "base_uri": "https://localhost:8080/"
        },
        "id": "Zsp8HX7kcrhX",
        "outputId": "0cfa782e-6026-421f-f23b-f93627086934"
      },
      "execution_count": null,
      "outputs": [
        {
          "output_type": "stream",
          "name": "stdout",
          "text": [
            "----------------------- Problema 1------------------------\n",
            "La aproximación con Simpson 1/3 =  22.543989\n",
            "Error relativo = 0.001342\n",
            "Error absoluto = 0.030291\n",
            "----------------------------------------------------------\n",
            "La aproximación con Simpson compuesto 17.682029 con n = 4\n",
            "Error relativo = 0.216718\n",
            "Error absoluto = 4.892251\n",
            "----------------------------------------------------------\n",
            "La aproximación con Simpson compuesto 22.571953 con n = 5\n",
            "Error relativo = 0.000103\n",
            "Error absoluto = 0.002327\n",
            "----------------------- Problema 2------------------------\n",
            "La aproximación con Simpson 1/3 =  1.333333\n",
            "Error relativo = 0.0\n",
            "Error absoluto = 0.0\n",
            "----------------------------------------------------------\n",
            "La aproximación con Simpson compuesto 1.168724 con n = 4\n",
            "Error relativo = 0.123457\n",
            "Error absoluto = 0.164609\n",
            "----------------------------------------------------------\n",
            "La aproximación con Simpson compuesto 1.333333 con n = 5\n",
            "Error relativo = 0.0\n",
            "Error absoluto = 0.0\n",
            "----------------------- Problema 3------------------------\n",
            "La aproximación con Simpson 1/3 =  2.429017\n",
            "Error relativo = 0.002545\n",
            "Error absoluto = 0.006167\n",
            "----------------------------------------------------------\n",
            "La aproximación con Simpson compuesto 2.069092 con n = 4\n",
            "Error relativo = 0.146009\n",
            "Error absoluto = 0.353758\n",
            "----------------------------------------------------------\n",
            "La aproximación con Simpson compuesto 2.423311 con n = 5\n",
            "Error relativo = 0.00019\n",
            "Error absoluto = 0.000461\n",
            "----------------------- Problema 4------------------------\n",
            "La aproximación con Simpson 1/3 =  -4.054942\n",
            "Error relativo = 17.846959\n",
            "Error absoluto = 3.839791\n",
            "----------------------------------------------------------\n",
            "La aproximación con Simpson compuesto -0.790402 con n = 4\n",
            "Error relativo = 2.67371\n",
            "Error absoluto = 0.575251\n",
            "----------------------------------------------------------\n",
            "La aproximación con Simpson compuesto 1.12206 con n = 5\n",
            "Error relativo = 6.21522\n",
            "Error absoluto = 1.337211\n"
          ]
        }
      ]
    }
  ]
}