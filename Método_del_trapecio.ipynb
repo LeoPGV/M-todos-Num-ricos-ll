{
  "nbformat": 4,
  "nbformat_minor": 0,
  "metadata": {
    "colab": {
      "provenance": []
    },
    "kernelspec": {
      "name": "python3",
      "display_name": "Python 3"
    },
    "language_info": {
      "name": "python"
    }
  },
  "cells": [
    {
      "cell_type": "code",
      "source": [
        "import numpy as np"
      ],
      "metadata": {
        "id": "WsaENSOTg9_G"
      },
      "execution_count": 1,
      "outputs": []
    },
    {
      "cell_type": "code",
      "source": [
        "def f(x):\n",
        "  return x/(np.sqrt(x**2 + 9))\n",
        "def f2(x):\n",
        "  return (x**3)/(x**2 +1)\n",
        "def f3(x):\n",
        "  return np.log(np.cos(x) + np.sin(x))\n",
        "def f4(x):\n",
        "  return np.exp(x)*(np.cos(x))\n",
        "\n",
        "\n",
        "def TrapecioC(a,b,f,vr):\n",
        "\n",
        "  print('-----------------------')\n",
        "  n = 3 - 1\n",
        "  h1 = b-a\n",
        "  h2 = (b-a)/n\n",
        "  x = np.zeros([n+1])\n",
        "\n",
        "  print('------------------------')\n",
        "  print('Particiones de x')\n",
        "  for i in range(0,n+1):\n",
        "    x[i] = a + i*(h2)\n",
        "    print(f'x_{i} =', round(x[i],6))\n",
        "\n",
        "  sum = 0\n",
        "  for i in range(1,n):\n",
        "    sum = sum + f(x[i])\n",
        "\n",
        "  print('------------------------')\n",
        "  print('Valor real de la integral = ',vr)\n",
        "  I1 = (h1/2)*(f(a)+f(b))\n",
        "  print(f'Integral aproximada con Trapecio Simple = {round(I1,6)}')\n",
        "  e1 = abs(vr-I1)/abs(vr)\n",
        "  print(f\"Error relativo con Trapecio Simple = {round(e1,6)}\")\n",
        "\n",
        "  I2 = (h2/2)*(f(a) + 2*(sum) + f(b))\n",
        "  print(f'Integral aproximada con Trapecio Compuesto = {round(I2,6)}')\n",
        "  e2 = abs(vr-I2)/abs(vr)\n",
        "  print(f\"Error relativo con Trapecio Compuesto = {round(e2,6)}\")\n",
        "  return round(I1,6),round(I2,6), round(vr,6)\n",
        "\n",
        "\n",
        "\n",
        "\n"
      ],
      "metadata": {
        "id": "dXBt5oJthSms"
      },
      "execution_count": 4,
      "outputs": []
    },
    {
      "cell_type": "code",
      "source": [
        "print(TrapecioC(0,4,f,2))\n",
        "print(TrapecioC(0,1,f2,0.1534264097154))\n",
        "print(TrapecioC(0,np.pi/2,f3,0.3715690717735))\n",
        "print(TrapecioC(0,np.pi,f4,-12.0703463161299))\n",
        "\n"
      ],
      "metadata": {
        "colab": {
          "base_uri": "https://localhost:8080/"
        },
        "id": "6wHvkTOPx5yC",
        "outputId": "5e05459d-8cf7-4833-8bf7-c5a3f63b4eeb"
      },
      "execution_count": 5,
      "outputs": [
        {
          "output_type": "stream",
          "name": "stdout",
          "text": [
            "-----------------------\n",
            "------------------------\n",
            "Particiones de x\n",
            "x_0 = 0.0\n",
            "x_1 = 2.0\n",
            "x_2 = 4.0\n",
            "------------------------\n",
            "Valor real de la integral =  2\n",
            "Integral aproximada con Trapecio Simple = 1.6\n",
            "Error relativo con Trapecio Simple = 0.2\n",
            "Integral aproximada con Trapecio Compuesto = 1.9094\n",
            "Error relativo con Trapecio Compuesto = 0.0453\n",
            "(1.6, 1.9094, 2)\n",
            "-----------------------\n",
            "------------------------\n",
            "Particiones de x\n",
            "x_0 = 0.0\n",
            "x_1 = 0.5\n",
            "x_2 = 1.0\n",
            "------------------------\n",
            "Valor real de la integral =  0.1534264097154\n",
            "Integral aproximada con Trapecio Simple = 0.25\n",
            "Error relativo con Trapecio Simple = 0.629446\n",
            "Integral aproximada con Trapecio Compuesto = 0.175\n",
            "Error relativo con Trapecio Compuesto = 0.140612\n",
            "(0.25, 0.175, 0.153426)\n",
            "-----------------------\n",
            "------------------------\n",
            "Particiones de x\n",
            "x_0 = 0.0\n",
            "x_1 = 0.785398\n",
            "x_2 = 1.570796\n",
            "------------------------\n",
            "Valor real de la integral =  0.3715690717735\n",
            "Integral aproximada con Trapecio Simple = 0.0\n",
            "Error relativo con Trapecio Simple = 1.0\n",
            "Integral aproximada con Trapecio Compuesto = 0.272198\n",
            "Error relativo con Trapecio Compuesto = 0.267436\n",
            "(0.0, 0.272198, 0.371569)\n",
            "-----------------------\n",
            "------------------------\n",
            "Particiones de x\n",
            "x_0 = 0.0\n",
            "x_1 = 1.570796\n",
            "x_2 = 3.141593\n",
            "------------------------\n",
            "Valor real de la integral =  -12.0703463161299\n",
            "Integral aproximada con Trapecio Simple = -34.778519\n",
            "Error relativo con Trapecio Simple = 1.881319\n",
            "Integral aproximada con Trapecio Compuesto = -17.389259\n",
            "Error relativo con Trapecio Compuesto = 0.44066\n",
            "(-34.778519, -17.389259, -12.070346)\n"
          ]
        }
      ]
    }
  ]
}